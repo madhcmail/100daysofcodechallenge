{
 "cells": [
  {
   "cell_type": "markdown",
   "metadata": {},
   "source": [
    "### Bite: Form teams from a group of friends \\\n",
    "Write a function called friends_teams that takes a list of friends, a team_size (type int, default=2) and order_does_matter (type bool, default False).\n",
    "\n",
    "Return all possible teams. Hint: if order matters (order_does_matter=True), the number of teams would be greater."
   ]
  },
  {
   "cell_type": "code",
   "execution_count": 11,
   "metadata": {},
   "outputs": [
    {
     "name": "stdout",
     "output_type": "stream",
     "text": [
      "('Bob', 'Dante')\n",
      "('Bob', 'Julian')\n",
      "('Bob', 'Martin')\n",
      "('Dante', 'Julian')\n",
      "('Dante', 'Martin')\n",
      "('Julian', 'Martin')\n",
      "*****End of Combinations *******\n",
      "('Bob', 'Dante')\n",
      "('Bob', 'Julian')\n",
      "('Bob', 'Martin')\n",
      "('Dante', 'Bob')\n",
      "('Dante', 'Julian')\n",
      "('Dante', 'Martin')\n",
      "('Julian', 'Bob')\n",
      "('Julian', 'Dante')\n",
      "('Julian', 'Martin')\n",
      "('Martin', 'Bob')\n",
      "('Martin', 'Dante')\n",
      "('Martin', 'Julian')\n",
      "end of permutations\n"
     ]
    }
   ],
   "source": [
    "from itertools import permutations, combinations\n",
    "\n",
    "friends = \"Bob Dante Julian Martin\" .split()\n",
    "\n",
    "def friends_teams(team_size=2, order_does_matter=False):\n",
    "\n",
    "    if order_does_matter == True:\n",
    "        for team in permutations(friends, team_size):\n",
    "            print (team)\n",
    "        print(\"end of permutations\")\n",
    "    else:\n",
    "        for team in combinations(friends, team_size):\n",
    "            print (team)\n",
    "        print(\"*****End of Combinations *******\")\n",
    "\n",
    "\n",
    "if __name__ == '__main__':\n",
    "    \n",
    "    friends_teams()\n",
    "    friends_teams(order_does_matter=True)\n",
    "    "
   ]
  },
  {
   "cell_type": "code",
   "execution_count": null,
   "metadata": {},
   "outputs": [],
   "source": []
  },
  {
   "cell_type": "markdown",
   "metadata": {},
   "source": [
    "### Bite: Fix a truncating zip function \\\n",
    "Bert is in charge of organizing an event and got the attendees names, locations and confirmations in 3 lists. Assuming he got all data and being Pythonic he used zip to stitch them together (see template code) but then he sees the output:\n",
    "\n",
    "('Tim', 'DE', False)\n",
    "('Bob', 'ES', True)\n",
    "('Julian', 'AUS', True)\n",
    "('Carmen', 'NL', False)\n",
    "('Sofia', 'BR', True)\n",
    "What?! Mike, Kim, and Andre are missing! You heard somebody mention itertools the other day for its power to work with iterators. Maybe it has a convenient way to solve this problem? Check out the module and patch the get_attendees function for Bert so it returns all names again. For missing data use dashes (-). After the fix Bert should see this output:\n",
    "\n",
    "('Tim', 'DE', False)\n",
    "('Bob', 'ES', True)\n",
    "('Julian', 'AUS', True)\n",
    "('Carmen', 'NL', False)\n",
    "('Sofia', 'BR', True)\n",
    "('Mike', 'US', '-')\n",
    "('Kim', '-', '-')\n",
    "('Andre', '-', '-')"
   ]
  },
  {
   "cell_type": "code",
   "execution_count": 12,
   "metadata": {},
   "outputs": [
    {
     "name": "stdout",
     "output_type": "stream",
     "text": [
      "('Tim', 'DE', False)\n",
      "('Bob', 'ES', True)\n",
      "('Julian', 'AUS', True)\n",
      "('Carmen', 'NL', False)\n",
      "('Sofia', 'BR', True)\n",
      "('Mike', 'US', '-')\n",
      "('Kim', '-', '-')\n",
      "('Andre', '-', '-')\n"
     ]
    }
   ],
   "source": [
    "import itertools\n",
    "\n",
    "names = 'Tim Bob Julian Carmen Sofia Mike Kim Andre'.split()\n",
    "locations = 'DE ES AUS NL BR US'.split()\n",
    "confirmed = [False, True, True, False, True]\n",
    "\n",
    "\n",
    "def get_attendees():\n",
    "    for participant in itertools.zip_longest(names, locations, confirmed, fillvalue='-'):\n",
    "        print(participant)\n",
    "\n",
    "\n",
    "if __name__ == '__main__':\n",
    "    get_attendees()"
   ]
  },
  {
   "cell_type": "code",
   "execution_count": null,
   "metadata": {},
   "outputs": [],
   "source": []
  }
 ],
 "metadata": {
  "kernelspec": {
   "display_name": "Python 3",
   "language": "python",
   "name": "python3"
  },
  "language_info": {
   "codemirror_mode": {
    "name": "ipython",
    "version": 3
   },
   "file_extension": ".py",
   "mimetype": "text/x-python",
   "name": "python",
   "nbconvert_exporter": "python",
   "pygments_lexer": "ipython3",
   "version": "3.7.4"
  }
 },
 "nbformat": 4,
 "nbformat_minor": 2
}
