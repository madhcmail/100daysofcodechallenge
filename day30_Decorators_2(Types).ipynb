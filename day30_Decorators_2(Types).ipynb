{
 "cells": [
  {
   "cell_type": "markdown",
   "metadata": {},
   "source": [
    "## Types Of Decorators\n",
    ". Basic \\\n",
    ". Decorator function with single parameter \\\n",
    ". Decorator function with multiple paramters \\\n",
    ". Decorator with paramter"
   ]
  },
  {
   "cell_type": "code",
   "execution_count": 1,
   "metadata": {},
   "outputs": [],
   "source": [
    "import time"
   ]
  },
  {
   "cell_type": "code",
   "execution_count": 2,
   "metadata": {},
   "outputs": [
    {
     "name": "stdout",
     "output_type": "stream",
     "text": [
      "long time\n",
      "end long time\n",
      "The function ran more than 2 seconds\n"
     ]
    }
   ],
   "source": [
    "# Basic decorator\n",
    "def my_decorater(func):\n",
    "    def time_checker():\n",
    "        start_time = time.time()\n",
    "        result = func()\n",
    "        duration = time.time() - start_time\n",
    "        if duration > 2:\n",
    "            print(\"The function ran more than 2 seconds\")\n",
    "        return result\n",
    "    return time_checker\n",
    "\n",
    "@my_decorater\n",
    "def time_long():\n",
    "    print(\"long time\")\n",
    "    time.sleep(3)\n",
    "    print(\"end long time\")\n",
    "\n",
    "time_long()"
   ]
  },
  {
   "cell_type": "markdown",
   "metadata": {},
   "source": [
    "## Decorate a function with parameters"
   ]
  },
  {
   "cell_type": "code",
   "execution_count": 3,
   "metadata": {},
   "outputs": [
    {
     "name": "stdout",
     "output_type": "stream",
     "text": [
      "long time\n",
      "The first parameter value, foo\n",
      "end long time\n",
      "The function ran more than 2 seconds\n"
     ]
    }
   ],
   "source": [
    "# Decorator with parameter\n",
    "\n",
    "def my_decorater2(func):\n",
    "    def time_checker(param): # single parameter\n",
    "        start_time = time.time()\n",
    "        result = func(param)\n",
    "        duration = time.time() - start_time\n",
    "        if duration > 2:\n",
    "            print(\"The function ran more than 2 seconds\")\n",
    "        return result\n",
    "    return time_checker\n",
    "\n",
    "@my_decorater2\n",
    "def time_long(param1):# passing single parameter\n",
    "    print(\"long time\")\n",
    "    print(f\"The first parameter value, {param1}\")\n",
    "    time.sleep(3)\n",
    "    print(\"end long time\")\n",
    "    \n",
    "time_long(\"foo\")"
   ]
  },
  {
   "cell_type": "markdown",
   "metadata": {},
   "source": [
    "### Inner function can tak eonly one parameter. If we want to pass multiple parmeters then we need to use args,kwargs"
   ]
  },
  {
   "cell_type": "code",
   "execution_count": 4,
   "metadata": {},
   "outputs": [],
   "source": [
    "import time"
   ]
  },
  {
   "cell_type": "code",
   "execution_count": 5,
   "metadata": {},
   "outputs": [
    {
     "name": "stdout",
     "output_type": "stream",
     "text": [
      "long time\n",
      "The first parameter value, foo\n",
      "The first parameter value, bar\n",
      "end long time\n",
      "The function ran more than 2 seconds\n"
     ]
    }
   ],
   "source": [
    "# Decorater with multiple parameters\n",
    "def my_decorater2(func):\n",
    "    def time_checker(*args):# inner function with multiple parameters\n",
    "        start_time = time.time()\n",
    "        result = func(*args) # handle multiple parameters\n",
    "        duration = time.time() - start_time\n",
    "        if duration > 2:\n",
    "            print(\"The function ran more than 2 seconds\")\n",
    "        return result\n",
    "    return time_checker\n",
    "\n",
    "@my_decorater2\n",
    "def time_long(*args):\n",
    "    print(\"long time\")\n",
    "    for arg in args:        \n",
    "        print(f\"The first parameter value, {arg}\")\n",
    "    time.sleep(3)\n",
    "    print(\"end long time\")\n",
    "    \n",
    "time_long(\"foo\",\"bar\")\n"
   ]
  },
  {
   "cell_type": "markdown",
   "metadata": {},
   "source": [
    "# Decorator with parameter"
   ]
  },
  {
   "cell_type": "code",
   "execution_count": 6,
   "metadata": {},
   "outputs": [
    {
     "name": "stdout",
     "output_type": "stream",
     "text": [
      "long time\n",
      "The first parameter value, foo\n",
      "The first parameter value, bar\n",
      "end long time\n",
      "The function ran more than max_sec, 2 seconds\n"
     ]
    }
   ],
   "source": [
    "def wrap_decorater(max_sec):\n",
    "    def my_decorater2(func):\n",
    "        def time_checker(*args):\n",
    "            start_time = time.time()\n",
    "            result = func(*args)\n",
    "            duration = time.time() - start_time\n",
    "            if duration > max_sec:\n",
    "                print(f\"The function ran more than max_sec, {max_sec} seconds\")\n",
    "            return result\n",
    "        return time_checker\n",
    "    return my_decorater2\n",
    "\n",
    "@wrap_decorater(2)\n",
    "def time_long(*args):\n",
    "    print(\"long time\")\n",
    "    for arg in args:        \n",
    "        print(f\"The first parameter value, {arg}\")\n",
    "    time.sleep(3)\n",
    "    print(\"end long time\")\n",
    "    \n",
    "time_long(\"foo\",\"bar\")"
   ]
  },
  {
   "cell_type": "code",
   "execution_count": null,
   "metadata": {},
   "outputs": [],
   "source": []
  }
 ],
 "metadata": {
  "kernelspec": {
   "display_name": "Python 3",
   "language": "python",
   "name": "python3"
  },
  "language_info": {
   "codemirror_mode": {
    "name": "ipython",
    "version": 3
   },
   "file_extension": ".py",
   "mimetype": "text/x-python",
   "name": "python",
   "nbconvert_exporter": "python",
   "pygments_lexer": "ipython3",
   "version": "3.7.4"
  }
 },
 "nbformat": 4,
 "nbformat_minor": 2
}
