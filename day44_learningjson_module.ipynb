{
 "cells": [
  {
   "cell_type": "code",
   "execution_count": 1,
   "metadata": {},
   "outputs": [],
   "source": [
    "import json\n",
    "import requests\n",
    "from pprint import pprint"
   ]
  },
  {
   "cell_type": "code",
   "execution_count": 2,
   "metadata": {},
   "outputs": [],
   "source": [
    "people_string = '''\n",
    "{\n",
    "   \"people\":[\n",
    "     {\n",
    "        \"name\":\"John Smith\",\n",
    "        \"phone\":\"615-555-7342\",\n",
    "        \"emails\":[\"johnsmith@bogusgmail.com\", \"jsmith@apex.com\"],\n",
    "        \"has_license\":false\n",
    "     },\n",
    "     {\n",
    "        \"name\":\"Jane Doe\",\n",
    "        \"phone\":\"515-6666-7342\",\n",
    "        \"emails\":null,\n",
    "        \"has_license\":true\n",
    "     }\n",
    "        \n",
    "   ]\n",
    "    \n",
    "}\n",
    "'''"
   ]
  },
  {
   "cell_type": "markdown",
   "metadata": {},
   "source": [
    "## Json loads method"
   ]
  },
  {
   "cell_type": "code",
   "execution_count": 4,
   "metadata": {},
   "outputs": [],
   "source": [
    "data = json.loads(people_string) # loads json data into python object. It converts object data into dictionary"
   ]
  },
  {
   "cell_type": "code",
   "execution_count": 7,
   "metadata": {},
   "outputs": [
    {
     "name": "stdout",
     "output_type": "stream",
     "text": [
      "<class 'dict'>\n"
     ]
    }
   ],
   "source": [
    "print(type(data))"
   ]
  },
  {
   "cell_type": "code",
   "execution_count": 5,
   "metadata": {},
   "outputs": [
    {
     "name": "stdout",
     "output_type": "stream",
     "text": [
      "{'people': [{'name': 'John Smith', 'phone': '615-555-7342', 'emails': ['johnsmith@bogusgmail.com', 'jsmith@apex.com'], 'has_license': False}, {'name': 'Jane Doe', 'phone': '515-6666-7342', 'emails': None, 'has_license': True}]}\n"
     ]
    }
   ],
   "source": [
    "print(data)"
   ]
  },
  {
   "cell_type": "code",
   "execution_count": 6,
   "metadata": {},
   "outputs": [
    {
     "name": "stdout",
     "output_type": "stream",
     "text": [
      "{'people': [{'emails': ['johnsmith@bogusgmail.com', 'jsmith@apex.com'],\n",
      "             'has_license': False,\n",
      "             'name': 'John Smith',\n",
      "             'phone': '615-555-7342'},\n",
      "            {'emails': None,\n",
      "             'has_license': True,\n",
      "             'name': 'Jane Doe',\n",
      "             'phone': '515-6666-7342'}]}\n"
     ]
    }
   ],
   "source": [
    "pprint(data) # prints in the pretty json format "
   ]
  },
  {
   "cell_type": "code",
   "execution_count": 8,
   "metadata": {},
   "outputs": [
    {
     "name": "stdout",
     "output_type": "stream",
     "text": [
      "John Smith\n",
      "Jane Doe\n"
     ]
    }
   ],
   "source": [
    "for person in data['people']:\n",
    "    print(person['name'])"
   ]
  },
  {
   "cell_type": "markdown",
   "metadata": {},
   "source": [
    "## Json dumps method"
   ]
  },
  {
   "cell_type": "code",
   "execution_count": 10,
   "metadata": {},
   "outputs": [],
   "source": [
    "for person in data['people']:\n",
    "    del person['phone']\n",
    "    \n",
    "new_string = json.dumps(data)"
   ]
  },
  {
   "cell_type": "code",
   "execution_count": 11,
   "metadata": {},
   "outputs": [
    {
     "name": "stdout",
     "output_type": "stream",
     "text": [
      "{\"people\": [{\"name\": \"John Smith\", \"emails\": [\"johnsmith@bogusgmail.com\", \"jsmith@apex.com\"], \"has_license\": false}, {\"name\": \"Jane Doe\", \"emails\": null, \"has_license\": true}]}\n"
     ]
    }
   ],
   "source": [
    "print(new_string)"
   ]
  },
  {
   "cell_type": "code",
   "execution_count": 12,
   "metadata": {},
   "outputs": [
    {
     "name": "stdout",
     "output_type": "stream",
     "text": [
      "('{\"people\": [{\"name\": \"John Smith\", \"emails\": [\"johnsmith@bogusgmail.com\", '\n",
      " '\"jsmith@apex.com\"], \"has_license\": false}, {\"name\": \"Jane Doe\", \"emails\": '\n",
      " 'null, \"has_license\": true}]}')\n"
     ]
    }
   ],
   "source": [
    "pprint(new_string)"
   ]
  },
  {
   "cell_type": "code",
   "execution_count": null,
   "metadata": {},
   "outputs": [],
   "source": []
  }
 ],
 "metadata": {
  "kernelspec": {
   "display_name": "Python 3",
   "language": "python",
   "name": "python3"
  },
  "language_info": {
   "codemirror_mode": {
    "name": "ipython",
    "version": 3
   },
   "file_extension": ".py",
   "mimetype": "text/x-python",
   "name": "python",
   "nbconvert_exporter": "python",
   "pygments_lexer": "ipython3",
   "version": "3.7.4"
  }
 },
 "nbformat": 4,
 "nbformat_minor": 2
}
