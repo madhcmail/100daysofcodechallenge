{
 "cells": [
  {
   "cell_type": "markdown",
   "metadata": {},
   "source": [
    "### Functions with arguments (Positional, Keyword, arbitary list *args and arbitary dict **kwargs)"
   ]
  },
  {
   "cell_type": "markdown",
   "metadata": {},
   "source": [
    "Write a function that has four optional parameters (with defaults):\n",
    "fore_color\n",
    "back_color\n",
    "link_color\n",
    "visited_color\n",
    "Have it print the colors (use strings for the colors)\n",
    "Call it with a couple different parameters set\n"
   ]
  },
  {
   "cell_type": "code",
   "execution_count": 20,
   "metadata": {},
   "outputs": [
    {
     "name": "stdout",
     "output_type": "stream",
     "text": [
      "****Output of positional arguments*******\n",
      "fore_color: red\n",
      "back_color: blue\n",
      "link_color: yellow\n",
      "visited_color:chartreuse\n",
      "*******Output of Keyword arguments ************\n",
      "fore_color: black\n",
      "back_color: blue\n",
      "link_color: red\n",
      "visited_color:Red\n",
      "*** output of positional and keyword ******\n",
      "fore_color: purple\n",
      "back_color: blue\n",
      "link_color: red\n",
      "visited_color:Red\n",
      "**** output of tuple and dict*****\n",
      "fore_color: red\n",
      "back_color: blue\n",
      "link_color: chartreuse\n",
      "visited_color:Red\n"
     ]
    }
   ],
   "source": [
    "def colors(fore_color='black',back_color='white',link_color='blue',visited_color='Red'):\n",
    "    print(f\"fore_color: {fore_color}\")\n",
    "    print(f\"back_color: {back_color}\")\n",
    "    print(f\"link_color: {link_color}\")\n",
    "    print(f\"visited_color:{visited_color}\")\n",
    "# using just positional arguments:\n",
    "print(\"****Output of positional arguments*******\")\n",
    "colors('red', 'blue', 'yellow', 'chartreuse')\n",
    "\n",
    "# using just keyword arguments\n",
    "print(\"*******Output of Keyword arguments ************\")\n",
    "colors(link_color='red', back_color='blue')\n",
    "\n",
    "# using a combination of positional and keyword\n",
    "print(\"*** output of positional and keyword ******\")\n",
    "colors('purple', link_color='red', back_color='blue')\n",
    "\n",
    "# using *some_tuple and/or **some_dict\n",
    "print(\"**** output of tuple and dict*****\")\n",
    "regular = ('red', 'blue')\n",
    "links = {'link_color': 'chartreuse'}\n",
    "colors(*regular, **links)"
   ]
  },
  {
   "cell_type": "markdown",
   "metadata": {},
   "source": [
    "Write a the same function with the parameters as:\n",
    "*args and **kwags"
   ]
  },
  {
   "cell_type": "code",
   "execution_count": 24,
   "metadata": {},
   "outputs": [
    {
     "name": "stdout",
     "output_type": "stream",
     "text": [
      "arg - red\n",
      "arg - blue\n",
      "arg - yellow\n",
      "arg - chartreuse\n"
     ]
    }
   ],
   "source": [
    "def color(*args, **kwargs):\n",
    "    for arg in args:\n",
    "        print(f\"arg - {arg}\")\n",
    "    for k,v in kwargs.items():\n",
    "        print(f\"{k}:{v}\")\n",
    "\n",
    "color('red', 'blue', 'yellow', 'chartreuse')     "
   ]
  },
  {
   "cell_type": "code",
   "execution_count": 25,
   "metadata": {},
   "outputs": [
    {
     "name": "stdout",
     "output_type": "stream",
     "text": [
      "link_color:red\n",
      "back_color:blue\n"
     ]
    }
   ],
   "source": [
    "color(**{\"link_color\":'red', \"back_color\":'blue'})"
   ]
  },
  {
   "cell_type": "code",
   "execution_count": 27,
   "metadata": {},
   "outputs": [
    {
     "name": "stdout",
     "output_type": "stream",
     "text": [
      "arg - purple\n",
      "link_color:red\n",
      "back_color:blue\n"
     ]
    }
   ],
   "source": [
    "kcolor= dict(link_color='red', back_color='blue')\n",
    "color('purple', **kcolor )"
   ]
  },
  {
   "cell_type": "code",
   "execution_count": 28,
   "metadata": {},
   "outputs": [
    {
     "name": "stdout",
     "output_type": "stream",
     "text": [
      "arg - red\n",
      "arg - blue\n",
      "link_color:chartreuse\n"
     ]
    }
   ],
   "source": [
    "regular = ('red', 'blue')\n",
    "links = {'link_color': 'chartreuse'}\n",
    "color(*regular, **links)"
   ]
  },
  {
   "cell_type": "code",
   "execution_count": null,
   "metadata": {},
   "outputs": [],
   "source": []
  },
  {
   "cell_type": "code",
   "execution_count": 12,
   "metadata": {},
   "outputs": [
    {
     "name": "stdout",
     "output_type": "stream",
     "text": [
      "The friends list is:\n",
      "Scott\n",
      "Julie\n",
      "Sassy\n",
      "Now here comes the food menu\n",
      "snack: Potato balls\n",
      "bf: PB&J\n",
      "lunch: Rice\n"
     ]
    }
   ],
   "source": [
    "def party(*args, **kwargs):\n",
    "    print(\"The friends list is:\")\n",
    "    for arg in args:\n",
    "        print(arg)\n",
    "    print(\"****Now here comes the food menu*****\")\n",
    "    for k,v in kwargs.items():\n",
    "        print(f\"{k}: {v}\")\n",
    "\n",
    "party(\"Scott\",\"Julie\",\"Sassy\", **{\"snack\":\"Potato balls\",\"bf\":\"PB&J\",\"lunch\":\"Rice\"})"
   ]
  },
  {
   "cell_type": "code",
   "execution_count": 13,
   "metadata": {},
   "outputs": [
    {
     "name": "stdout",
     "output_type": "stream",
     "text": [
      "720\n"
     ]
    }
   ],
   "source": [
    "def multiply(*args):\n",
    "    i = 1\n",
    "    for arg in args:\n",
    "        i = i * arg\n",
    "    print(i)\n",
    "multiply(2,3,4,5,6)"
   ]
  }
 ],
 "metadata": {
  "kernelspec": {
   "display_name": "Python 3",
   "language": "python",
   "name": "python3"
  },
  "language_info": {
   "codemirror_mode": {
    "name": "ipython",
    "version": 3
   },
   "file_extension": ".py",
   "mimetype": "text/x-python",
   "name": "python",
   "nbconvert_exporter": "python",
   "pygments_lexer": "ipython3",
   "version": "3.7.4"
  }
 },
 "nbformat": 4,
 "nbformat_minor": 2
}
