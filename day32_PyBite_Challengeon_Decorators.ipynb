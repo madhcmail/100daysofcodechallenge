{
 "cells": [
  {
   "cell_type": "markdown",
   "metadata": {},
   "source": [
    "## Bite 22. Write a decorator with argument ☆\n",
    "Write a decorator called make_html that wraps text inside one or more html tags.\n",
    "\n",
    "As shown in the tests decorating get_text with make_html twice should wrap the text in the corresponding html tags, so:\n",
    "\n",
    "@make_html('p')\n",
    "@make_html('strong')\n",
    "def get_text(text='I code with PyBites'):\n",
    "    return text\n",
    "- would return: <p><strong>I code with PyBites</strong></p>\n",
    "\n",
    "Have fun and start to grok decorators!"
   ]
  },
  {
   "cell_type": "code",
   "execution_count": 1,
   "metadata": {},
   "outputs": [],
   "source": [
    "from functools import wraps\n",
    "\n",
    "\n",
    "def make_html(element):\n",
    "    @wraps(element)\n",
    "    def wrapper(func):\n",
    "        def inner_function(*args, **kwargs):\n",
    "            result=func(*args, **kwargs)\n",
    "            return f'<{element}>{result}</{element}>'\n",
    "        return inner_function\n",
    "    return wrapper\n",
    "\n",
    "@make_html('p')\n",
    "@make_html('strong')\n",
    "def get_text(text='I code with PyBites'):\n",
    "    return text"
   ]
  },
  {
   "cell_type": "code",
   "execution_count": 2,
   "metadata": {},
   "outputs": [
    {
     "data": {
      "text/plain": [
       "'<p><strong>I code with PyBites</strong></p>'"
      ]
     },
     "execution_count": 2,
     "metadata": {},
     "output_type": "execute_result"
    }
   ],
   "source": [
    "get_text()"
   ]
  },
  {
   "cell_type": "code",
   "execution_count": null,
   "metadata": {},
   "outputs": [],
   "source": []
  }
 ],
 "metadata": {
  "kernelspec": {
   "display_name": "Python 3",
   "language": "python",
   "name": "python3"
  },
  "language_info": {
   "codemirror_mode": {
    "name": "ipython",
    "version": 3
   },
   "file_extension": ".py",
   "mimetype": "text/x-python",
   "name": "python",
   "nbconvert_exporter": "python",
   "pygments_lexer": "ipython3",
   "version": "3.7.4"
  }
 },
 "nbformat": 4,
 "nbformat_minor": 2
}
